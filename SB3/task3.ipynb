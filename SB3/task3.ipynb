{
 "cells": [
  {
   "cell_type": "code",
   "execution_count": null,
   "metadata": {},
   "outputs": [],
   "source": [
    "import numpy as np\n",
    "from torch import nn\n",
    "import gymnasium as gym\n",
    "import matplotlib.pyplot as plt\n",
    "from stable_baselines3.common.preprocessing import get_flattened_obs_dim\n",
    "from stable_baselines3.common.noise import (\n",
    "    NormalActionNoise,\n",
    "    OrnsteinUhlenbeckActionNoise,\n",
    ")\n",
    "\n",
    "from rlmcmc.env import RLMHEnv\n",
    "from rlmcmc.policy import RLMHTD3Policy\n",
    "from rlmcmc.agent import RLMHDDPG\n",
    "from rlmcmc.utils import LearningRateSchedule, RLMHNormalActionNoise\n",
    "\n",
    "import json\n",
    "import pandas as pd\n",
    "import bridgestan as bs\n",
    "from posteriordb import PosteriorDatabase\n",
    "\n",
    "from mcmctoolbox.functoolbox import flat"
   ]
  },
  {
   "cell_type": "code",
   "execution_count": null,
   "metadata": {},
   "outputs": [],
   "source": [
    "# Load DataBase Locally\n",
    "pdb_path = \"/home/congye/Code/PythonProjects/LearningAdaptiveMCMC/Python/posteriordb/posterior_database\"\n",
    "my_pdb = PosteriorDatabase(pdb_path)\n",
    "\n",
    "# Load Dataset\n",
    "posterior = my_pdb.posterior(\"test-SimpleEggBox-test-SimpleEggBox\")\n",
    "stan = posterior.model.stan_code_file_path()\n",
    "data = json.dumps(posterior.data.values())\n",
    "model = bs.StanModel.from_stan_file(stan, data)\n",
    "\n",
    "# Gold Standard\n",
    "gs = posterior.reference_draws()\n",
    "df = pd.DataFrame(gs)\n",
    "gs_chains = np.zeros(\n",
    "    (\n",
    "        sum(flat(posterior.information[\"dimensions\"].values())),\n",
    "        posterior.reference_draws_info()[\"diagnostics\"][\"ndraws\"],\n",
    "    )\n",
    ")\n",
    "for i in range(len(df.keys())):\n",
    "    s = []\n",
    "    for j in range(len(df[df.keys()[i]])):\n",
    "        s += df[df.keys()[i]][j]\n",
    "    gs_chains[i, :] = s\n",
    "linv = np.linalg.inv(np.cov(gs_chains))\n",
    "\n",
    "# Extract log-P-pdf and its gradient\n",
    "log_p = model.log_density"
   ]
  },
  {
   "cell_type": "code",
   "execution_count": null,
   "metadata": {},
   "outputs": [],
   "source": [
    "total_timesteps = 5_000\n",
    "rlmh_env = gym.make(\n",
    "    \"RLMHEnv-v0\", log_target_pdf=log_p, sample_dim=2, total_timesteps=total_timesteps\n",
    ")\n",
    "\n",
    "policy_kwargs = dict(\n",
    "    net_arch=dict(pi=[64, 64], qf=[64, 64, 64]),\n",
    "    activation_fn=nn.Softplus,\n",
    "    n_critics=1,\n",
    ")\n",
    "\n",
    "# The noise objects for DDPG\n",
    "n_actions = rlmh_env.action_space.shape[-1]\n",
    "# action_noise = NormalActionNoise(\n",
    "#     mean=np.zeros(n_actions), sigma=0.1 * np.ones(n_actions)\n",
    "# )\n",
    "action_noise = RLMHNormalActionNoise(\n",
    "    action_dim=n_actions,\n",
    "    sample_noise_mean=np.zeros(n_actions-1),\n",
    "    log_proposal_ratio_noise_mean=np.zeros(1),\n",
    "    sample_noise_sigma=0.1 * np.ones(n_actions-1),\n",
    "    log_proposal_ratio_noise_sigma=0.1 * np.ones(1),\n",
    "    sample_noise_lengthscale=np.array([1.0]),\n",
    "    log_proposal_ratio_noise_lengthscale=np.array([0.0])\n",
    ")\n",
    "\n",
    "initial_lr = 1e-2"
   ]
  },
  {
   "cell_type": "code",
   "execution_count": null,
   "metadata": {},
   "outputs": [],
   "source": [
    "model = RLMHDDPG(\n",
    "    RLMHTD3Policy,\n",
    "    rlmh_env,\n",
    "    seed=1234,\n",
    "    policy_kwargs=policy_kwargs,\n",
    "    learning_rate=LearningRateSchedule.cosine_annealing_schedule(initial_lr),\n",
    "    learning_starts=-1,\n",
    "    batch_size=64,\n",
    "    train_freq=(2, \"step\"),\n",
    "    action_noise=action_noise,\n",
    "    device=\"cpu\",\n",
    "    verbose=2,\n",
    ")"
   ]
  },
  {
   "cell_type": "code",
   "execution_count": null,
   "metadata": {},
   "outputs": [],
   "source": [
    "model.learn(total_timesteps=total_timesteps, progress_bar=True)"
   ]
  },
  {
   "cell_type": "code",
   "execution_count": null,
   "metadata": {},
   "outputs": [],
   "source": [
    "state_list = np.array([i for i in rlmh_env.store_state]).reshape(\n",
    "    -1, get_flattened_obs_dim(rlmh_env.observation_space)\n",
    ")"
   ]
  },
  {
   "cell_type": "code",
   "execution_count": null,
   "metadata": {},
   "outputs": [],
   "source": [
    "plt.plot(state_list[:, 0], state_list[:, 1], \"o-\", alpha=0.1)\n",
    "plt.show()"
   ]
  },
  {
   "cell_type": "code",
   "execution_count": null,
   "metadata": {},
   "outputs": [],
   "source": []
  }
 ],
 "metadata": {
  "kernelspec": {
   "display_name": "rl",
   "language": "python",
   "name": "python3"
  },
  "language_info": {
   "codemirror_mode": {
    "name": "ipython",
    "version": 3
   },
   "file_extension": ".py",
   "mimetype": "text/x-python",
   "name": "python",
   "nbconvert_exporter": "python",
   "pygments_lexer": "ipython3",
   "version": "3.10.13"
  }
 },
 "nbformat": 4,
 "nbformat_minor": 2
}
