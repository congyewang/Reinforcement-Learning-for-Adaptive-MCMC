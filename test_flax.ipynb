{
 "cells": [
  {
   "cell_type": "code",
   "execution_count": 1,
   "metadata": {},
   "outputs": [],
   "source": [
    "import flax\n",
    "import flax.linen as nn\n",
    "import jax\n",
    "import jax.nn.initializers as initializers\n",
    "import jax.numpy as jnp\n",
    "from flax.training.train_state import TrainState\n",
    "import numpy as np\n",
    "\n",
    "import optax\n",
    "\n",
    "key = jax.random.PRNGKey(1234)\n",
    "key, test_key = jax.random.split(key, 2)"
   ]
  },
  {
   "cell_type": "code",
   "execution_count": 2,
   "metadata": {},
   "outputs": [],
   "source": [
    "class Test(nn.Module):\n",
    "    \"\"\"\n",
    "    Critic Network\n",
    "    \"\"\"\n",
    "    @nn.compact\n",
    "    def __call__(self, x):\n",
    "        x = nn.Dense(2, name=\"D0\")(x)\n",
    "        x = nn.Dense(2, name=\"D1\")(x)\n",
    "        x = nn.Dense(6, name=\"D2\")(x)\n",
    "        return x"
   ]
  },
  {
   "cell_type": "code",
   "execution_count": 3,
   "metadata": {},
   "outputs": [],
   "source": [
    "test = Test()\n",
    "obs = jnp.array([[0.0, 0.0, -0.5, 0.5]])"
   ]
  },
  {
   "cell_type": "code",
   "execution_count": 4,
   "metadata": {},
   "outputs": [],
   "source": [
    "test_state = TrainState.create(\n",
    "    apply_fn=test.apply,\n",
    "    params=test.init(test_key, np.ones_like(obs)),\n",
    "    tx=optax.adam(learning_rate=1e-3),\n",
    ")"
   ]
  },
  {
   "cell_type": "code",
   "execution_count": 5,
   "metadata": {},
   "outputs": [
    {
     "data": {
      "text/plain": [
       "{'params': {'D0': {'kernel': Array([[ 0.21801375,  0.65828794],\n",
       "          [-1.05181   , -0.51655525],\n",
       "          [ 0.7681196 , -0.1240018 ],\n",
       "          [-0.84719193, -0.1861443 ]], dtype=float32),\n",
       "   'bias': Array([0., 0.], dtype=float32)},\n",
       "  'D1': {'kernel': Array([[ 0.08604589, -0.616443  ],\n",
       "          [ 0.13109617,  0.25108585]], dtype=float32),\n",
       "   'bias': Array([0., 0.], dtype=float32)},\n",
       "  'D2': {'kernel': Array([[ 0.21583107, -1.3484992 ,  1.0286711 , -0.76696074,  1.4725155 ,\n",
       "            0.32232338],\n",
       "          [-1.0597309 , -0.18715075, -0.51606786, -0.48071578, -0.21511376,\n",
       "           -0.25362113]], dtype=float32),\n",
       "   'bias': Array([0., 0., 0., 0., 0., 0.], dtype=float32)}}}"
      ]
     },
     "execution_count": 5,
     "metadata": {},
     "output_type": "execute_result"
    }
   ],
   "source": [
    "test_state.params"
   ]
  },
  {
   "cell_type": "code",
   "execution_count": 6,
   "metadata": {},
   "outputs": [
    {
     "data": {
      "text/plain": [
       "Array([[-0.53522307,  0.00749008, -0.32858858, -0.17916106, -0.21375245,\n",
       "        -0.14800559]], dtype=float32)"
      ]
     },
     "execution_count": 6,
     "metadata": {},
     "output_type": "execute_result"
    }
   ],
   "source": [
    "test.apply(test_state.params, obs)"
   ]
  },
  {
   "cell_type": "code",
   "execution_count": 12,
   "metadata": {},
   "outputs": [],
   "source": [
    "weights = test_state.params['params']"
   ]
  },
  {
   "cell_type": "code",
   "execution_count": 13,
   "metadata": {},
   "outputs": [
    {
     "data": {
      "text/plain": [
       "Array([[-0.535223  ,  0.00749008, -0.32858858, -0.17916106, -0.21375243,\n",
       "        -0.14800559]], dtype=float32)"
      ]
     },
     "execution_count": 13,
     "metadata": {},
     "output_type": "execute_result"
    }
   ],
   "source": [
    "x = np.dot(obs, weights['D0']['kernel']) + weights['D0']['bias']\n",
    "x = np.dot(x, weights['D1']['kernel']) + weights['D1']['bias']\n",
    "output = np.dot(x, weights['D2']['kernel']) + weights['D2']['bias']\n",
    "\n",
    "output"
   ]
  },
  {
   "cell_type": "code",
   "execution_count": null,
   "metadata": {},
   "outputs": [],
   "source": []
  }
 ],
 "metadata": {
  "kernelspec": {
   "display_name": "rl",
   "language": "python",
   "name": "python3"
  },
  "language_info": {
   "codemirror_mode": {
    "name": "ipython",
    "version": 3
   },
   "file_extension": ".py",
   "mimetype": "text/x-python",
   "name": "python",
   "nbconvert_exporter": "python",
   "pygments_lexer": "ipython3",
   "version": "3.10.13"
  }
 },
 "nbformat": 4,
 "nbformat_minor": 2
}
