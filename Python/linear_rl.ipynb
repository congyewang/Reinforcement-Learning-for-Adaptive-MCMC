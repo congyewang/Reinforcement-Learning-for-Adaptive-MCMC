{
 "cells": [
  {
   "cell_type": "code",
   "execution_count": null,
   "metadata": {},
   "outputs": [],
   "source": [
    "import random\n",
    "import time\n",
    "\n",
    "import jax\n",
    "import jax.numpy as jnp\n",
    "import numpy as np\n",
    "import optax\n",
    "from flax.training.train_state import TrainState\n",
    "from torch.utils.tensorboard import SummaryWriter\n",
    "\n",
    "import plotly.graph_objects as go\n",
    "\n",
    "from myenv import MyEnv\n",
    "from distributions import Distribution\n",
    "\n",
    "import toml\n",
    "from types import SimpleNamespace\n",
    "\n",
    "config = toml.load(\"config.toml\")\n",
    "args = SimpleNamespace(**config)"
   ]
  },
  {
   "cell_type": "code",
   "execution_count": null,
   "metadata": {},
   "outputs": [],
   "source": [
    "class QFunction:\n",
    "    def __init__(self):\n",
    "        self.weights = None\n",
    "\n",
    "    def _basis_functions(self, x, theta):\n",
    "        x_theta = jnp.einsum('ij,ik->ijk', x, theta).reshape(x.shape[0], -1)\n",
    "        return jnp.hstack([jnp.ones((x.shape[0], 1)), x, theta, x_theta])\n",
    "\n",
    "    def fit(self, X, theta, y):\n",
    "        Phi = self._basis_functions(X, theta)\n",
    "        if self.weights is None:\n",
    "            self.weights = jnp.zeros(Phi.shape[1])\n",
    "        pseudo_inv = jnp.linalg.pinv(Phi.T @ Phi)\n",
    "        self.weights = pseudo_inv @ Phi.T @ y\n",
    "\n",
    "    def apply(self, x, theta):\n",
    "        phi = self._basis_functions(x, theta)\n",
    "        if self.weights is None:\n",
    "            self.weights = jnp.zeros(phi.shape[1])\n",
    "        return jnp.dot(phi, self.weights)\n"
   ]
  },
  {
   "cell_type": "code",
   "execution_count": null,
   "metadata": {},
   "outputs": [],
   "source": [
    "# Initialize Actor\n",
    "class Actor:\n",
    "    def apply(self, params, observations):\n",
    "        phi = jnp.arccos(params[0] + params[1]*observations[0] + params[2]*observations[1])\n",
    "        alpha = params[3]**2 + params[4]**2 * (observations[0] - params[5])**2 + params[6]**2 * (observations[1] - params[7])**2\n",
    "        beta = params[8]**2 + params[9]**2 * (observations[0] - params[10])**2 + params[11]**2 * (observations[1] - params[12])**2\n",
    "\n",
    "        t1 = jnp.array([[jnp.cos(phi), -jnp.sin(phi)], [jnp.sin(phi), jnp.cos(phi)]])\n",
    "        t2 = jnp.array([[alpha, 0], [0, beta]])\n",
    "\n",
    "        sigma2 = t1 @ t2 @ t1.T\n",
    "\n",
    "        return sigma2"
   ]
  },
  {
   "cell_type": "code",
   "execution_count": null,
   "metadata": {},
   "outputs": [],
   "source": [
    "class ActorTrainState(TrainState):\n",
    "    params: jnp.ndarray\n",
    "    target_params: jnp.ndarray"
   ]
  },
  {
   "cell_type": "code",
   "execution_count": null,
   "metadata": {},
   "outputs": [],
   "source": [
    "# Record the hyperparameters\n",
    "run_name = f\"{args.env_id}__{args.exp_name}__{args.seed}__{int(time.time())}\"\n",
    "writer = SummaryWriter(f\"runs/{run_name}\")\n",
    "writer.add_text(\n",
    "    \"hyperparameters\",\n",
    "    \"|param|value|\\n|-|-|\\n%s\" % (\"\\n\".join([f\"|{key}|{value}|\" for key, value in vars(args).items()])),\n",
    ")"
   ]
  },
  {
   "cell_type": "code",
   "execution_count": null,
   "metadata": {},
   "outputs": [],
   "source": [
    "# Random seed\n",
    "random.seed(args.seed)\n",
    "np.random.seed(args.seed)\n",
    "key = jax.random.PRNGKey(args.seed)\n",
    "key, actor_key, qf1_key = jax.random.split(key, 3)"
   ]
  },
  {
   "cell_type": "code",
   "execution_count": null,
   "metadata": {},
   "outputs": [],
   "source": [
    "# Setup env\n",
    "log_p = Distribution.gaussian\n",
    "dim = 2\n",
    "max_steps=100\n",
    "\n",
    "env = MyEnv(log_p, dim, max_steps)\n",
    "max_action = float(env.action_space.high[0])\n",
    "env.observation_space.dtype = np.float32"
   ]
  },
  {
   "cell_type": "code",
   "execution_count": null,
   "metadata": {},
   "outputs": [],
   "source": [
    "# Start\n",
    "obs, _ = env.reset()\n",
    "\n",
    "actor = Actor()\n",
    "qf1 = QFunction()"
   ]
  },
  {
   "cell_type": "code",
   "execution_count": null,
   "metadata": {},
   "outputs": [],
   "source": [
    "actor_state = ActorTrainState.create(\n",
    "    apply_fn=actor.apply,\n",
    "    params=jnp.array([0.0, 0.0, 0.0, 1.0, 2.5, 0.0, 2.5, 0.0, 1.0, 2.5, 0.0, 2.5, 0.0]),\n",
    "    target_params=jnp.array([0.0, 0.0, 0.0, 1.0, 2.5, 0.0, 2.5, 0.0, 1.0, 2.5, 0.0, 2.5, 0.0]),\n",
    "    tx=optax.adam(\n",
    "        learning_rate=args.learning_rate\n",
    "        ),\n",
    ")"
   ]
  },
  {
   "cell_type": "code",
   "execution_count": null,
   "metadata": {},
   "outputs": [],
   "source": [
    "actor.apply = jax.jit(actor.apply)\n",
    "qf1.apply = jax.jit(qf1.apply)"
   ]
  },
  {
   "cell_type": "code",
   "execution_count": null,
   "metadata": {},
   "outputs": [],
   "source": [
    "def update_critic(\n",
    "    actor_state: TrainState,\n",
    "    observations: jnp.ndarray,\n",
    "    rewards: jnp.ndarray,\n",
    "    q_function: QFunction\n",
    "    ):\n",
    "\n",
    "    next_action = actor.apply(actor_state.params, observations)\n",
    "\n",
    "    # Calculate current Q value estimate\n",
    "    q_current = q_function.apply(observations.reshape(1, -1), actor_state.params.reshape(1, -1))\n",
    "\n",
    "    # Calculate TD target\n",
    "    q_target = rewards + args.gamma * q_function.apply(observations.reshape(1, -1), actor_state.params.reshape(1, -1))\n",
    "\n",
    "    # Compute TD error\n",
    "    td_error = q_target - q_current\n",
    "\n",
    "    # Compute the loss\n",
    "    qf1_loss_value = jnp.mean(td_error**2)\n",
    "\n",
    "    # Use the current state-action pair and TD target update Q function\n",
    "    q_function.fit(observations.reshape(1, -1), actor_state.params.reshape(1, -1), q_target.reshape(1, -1))\n",
    "\n",
    "    return qf1_loss_value, q_current"
   ]
  },
  {
   "cell_type": "code",
   "execution_count": null,
   "metadata": {},
   "outputs": [],
   "source": [
    "# Inital the State of Optimizer\n",
    "opt_state = actor_state.tx.init(actor_state.params)\n",
    "\n",
    "def update_actor(\n",
    "    actor_state: TrainState,\n",
    "    observations: jnp.ndarray,\n",
    "    q_function: QFunction\n",
    "    ):\n",
    "\n",
    "    def actor_loss(\n",
    "        params: jnp.ndarray,\n",
    "        observations: jnp.ndarray,\n",
    "        q_function: QFunction\n",
    "        ):\n",
    "\n",
    "        return -q_function.apply(observations.reshape(1, -1), params.reshape(1, -1)).mean()\n",
    "\n",
    "    actor_loss_value, grads = jax.value_and_grad(actor_loss)(actor_state.params, observations, q_function)\n",
    "    actor_state = actor_state.apply_gradients(grads=grads)\n",
    "    actor_state = actor_state.replace(\n",
    "        target_params=optax.incremental_update(actor_state.params, actor_state.target_params, args.tau)\n",
    "    )\n",
    "\n",
    "    return actor_state, actor_loss_value"
   ]
  },
  {
   "cell_type": "code",
   "execution_count": null,
   "metadata": {},
   "outputs": [],
   "source": [
    "start_time = time.time()\n",
    "for global_step in range(args.total_timesteps):\n",
    "    # Action\n",
    "    if global_step < args.learning_starts:\n",
    "        actions = np.eye(env.dim).flatten()\n",
    "        policy_cov_func = lambda obs: jnp.eye(env.dim)\n",
    "    else:\n",
    "        policy_cov_func = lambda obs: jnp.squeeze(actor.apply(actor_state.params, obs))\n",
    "        actions = policy_cov_func(obs).flatten()\n",
    "\n",
    "    # Execute the env and log data.\n",
    "    actions_matrix = actions.reshape(env.dim, -1)\n",
    "    next_obs, rewards, terminateds, truncateds, infos = env.step(actions_matrix, policy_cov_func)\n",
    "\n",
    "    # Record rewards for plotting purposes\n",
    "    if \"final_info\" in infos:\n",
    "        for info in infos[\"final_info\"]:\n",
    "            print(f\"global_step={global_step}, episodic_return={info['episode']['r']}\")\n",
    "            writer.add_scalar(\"charts/episodic_return\", info[\"episode\"][\"r\"], global_step)\n",
    "            writer.add_scalar(\"charts/episodic_length\", info[\"episode\"][\"l\"], global_step)\n",
    "            break\n",
    "\n",
    "    # Update observation\n",
    "    obs = next_obs\n",
    "\n",
    "    # Training.\n",
    "    if global_step > args.learning_starts:\n",
    "        qf1_loss_value, qf1_a_values = update_critic(actor_state, obs, rewards, qf1)\n",
    "        if global_step % args.policy_frequency == 0:\n",
    "            actor_state, actor_loss_value = update_actor(\n",
    "                actor_state,\n",
    "                obs,\n",
    "                qf1,\n",
    "            )\n",
    "\n",
    "        if global_step % 100 == 0:\n",
    "            writer.add_scalar(\"losses/qf1_loss\", qf1_loss_value.item(), global_step)\n",
    "            writer.add_scalar(\"losses/actor_loss\", actor_loss_value.item(), global_step)\n",
    "            writer.add_scalar(\"losses/qf1_values\", qf1_a_values.item(), global_step)\n",
    "            print(\"SPS:\", int(global_step / (time.time() - start_time)))\n",
    "            writer.add_scalar(\"charts/SPS\", int(global_step / (time.time() - start_time)), global_step)"
   ]
  },
  {
   "cell_type": "code",
   "execution_count": null,
   "metadata": {},
   "outputs": [],
   "source": [
    "# Plot Policy\n",
    "\n",
    "x0 = np.linspace(-5., 5., 1000)\n",
    "x1 = x0.copy()\n",
    "x, y = np.meshgrid(x0, x1)\n",
    "\n",
    "res = []\n",
    "for i in range(1000):\n",
    "    for j in range(1000):\n",
    "        res.append(np.trace(policy_cov_func(np.array([x[i,j], y[i,j]]))))\n",
    "\n",
    "z = np.array(res).reshape(1000, 1000)"
   ]
  },
  {
   "cell_type": "code",
   "execution_count": null,
   "metadata": {},
   "outputs": [],
   "source": [
    "fig = go.Figure(data=[go.Surface(z=z, x=x, y=y, colorscale='Viridis')])\n",
    "fig.update_layout(scene=dict(xaxis_title='x',\n",
    "                             yaxis_title='y',\n",
    "                             zaxis_title='Trace'))\n",
    "\n",
    "fig.show()"
   ]
  },
  {
   "cell_type": "code",
   "execution_count": null,
   "metadata": {},
   "outputs": [],
   "source": []
  }
 ],
 "metadata": {
  "kernelspec": {
   "display_name": "rl",
   "language": "python",
   "name": "python3"
  },
  "language_info": {
   "codemirror_mode": {
    "name": "ipython",
    "version": 3
   },
   "file_extension": ".py",
   "mimetype": "text/x-python",
   "name": "python",
   "nbconvert_exporter": "python",
   "pygments_lexer": "ipython3",
   "version": "3.10.12"
  },
  "orig_nbformat": 4
 },
 "nbformat": 4,
 "nbformat_minor": 2
}
