{
 "cells": [
  {
   "cell_type": "code",
   "execution_count": 1,
   "metadata": {},
   "outputs": [],
   "source": [
    "import torch\n",
    "import numpy as np\n",
    "import matplotlib.pyplot as plt\n",
    "from scipy.stats import multivariate_normal"
   ]
  },
  {
   "cell_type": "code",
   "execution_count": 2,
   "metadata": {},
   "outputs": [],
   "source": [
    "def median_scale(x):\n",
    "    \"\"\"\n",
    "    Calculating the median bandwidth parameter of the RBF kernel\n",
    "\n",
    "    Parameters:\n",
    "        - x: A tensor of shape (N, D)\n",
    "\n",
    "    Return:\n",
    "        - scale: The bandwidth of the RBF kernel using the median trick.\n",
    "    \"\"\"\n",
    "\n",
    "    x_norm = (x ** 2).sum(1).view(-1, 1)\n",
    "    dist = x_norm + x_norm.t() - 2.0 * torch.mm(x, x.t())\n",
    "    dist = dist - torch.diag(torch.diag(dist))  # Set the diagonal element to 0\n",
    "    scale = dist.view(-1).median().sqrt()\n",
    "\n",
    "    return scale\n",
    "\n",
    "def compute_mmd(x, y, kernel='rbf', **kwargs):\n",
    "    \"\"\"\n",
    "    Compute the Maximum Mean Discrepancy (MMD) between two sets of samples, x and y.\n",
    "\n",
    "    Parameters:\n",
    "        - x: First set of samples. Shape: (n, d)\n",
    "        - y: Second set of samples. Shape: (m, d)\n",
    "        - kernel: Type of kernel to be used. Currently supports 'rbf', 'imq', 'linear', and 'cosine'.\n",
    "        - **kwargs: Additional keyword arguments for the kernel functions.\n",
    "\n",
    "    Returns:\n",
    "        - mmd: The MMD value between x and y.\n",
    "    \"\"\"\n",
    "\n",
    "    def rbf_kernel(x, y, bandwidth=1.0):\n",
    "        x = x.unsqueeze(1)  # Shape: (n, 1, d)\n",
    "        y = y.unsqueeze(0)  # Shape: (1, m, d)\n",
    "        \n",
    "        # Compute pairwise distances\n",
    "        distances = (x - y).pow(2).sum(-1)\n",
    "\n",
    "        return torch.exp(-distances / (2 * bandwidth * bandwidth))\n",
    "\n",
    "    def imq_kernel(x, y, c=1.0):\n",
    "        x = x.unsqueeze(1)  # Shape: (n, 1, d)\n",
    "        y = y.unsqueeze(0)  # Shape: (1, m, d)\n",
    "\n",
    "        # Compute pairwise distances\n",
    "        distances = (x - y).pow(2).sum(-1)\n",
    "        \n",
    "        return c * c / (c * c + distances)\n",
    "\n",
    "    def linear_kernel(x, y):\n",
    "        return torch.mm(x, y.t())\n",
    "\n",
    "    def cosine_similarity_kernel(x, y):\n",
    "        x_norm = x / (x.norm(p=2, dim=1, keepdim=True) + 1e-8)\n",
    "        y_norm = y / (y.norm(p=2, dim=1, keepdim=True) + 1e-8)\n",
    "        return torch.mm(x_norm, y_norm.t())\n",
    "\n",
    "    if kernel == 'rbf':\n",
    "        kernel_func = rbf_kernel\n",
    "    elif kernel == 'imq':\n",
    "        kernel_func = imq_kernel\n",
    "    elif kernel == 'linear':\n",
    "        kernel_func = linear_kernel\n",
    "    elif kernel == 'cosine':\n",
    "        kernel_func = cosine_similarity_kernel\n",
    "    else:\n",
    "        raise ValueError(\"Unsupported kernel type.\")\n",
    "\n",
    "    with torch.no_grad():\n",
    "        # Compute individual kernel matrices\n",
    "        xx_kernel = kernel_func(x, x, **kwargs).mean()\n",
    "        yy_kernel = kernel_func(y, y, **kwargs).mean()\n",
    "        xy_kernel = kernel_func(x, y, **kwargs).mean()\n",
    "\n",
    "    # Compute MMD\n",
    "    mmd = xx_kernel + yy_kernel - 2 * xy_kernel\n",
    "    return mmd\n"
   ]
  },
  {
   "cell_type": "code",
   "execution_count": 3,
   "metadata": {},
   "outputs": [],
   "source": [
    "gs = multivariate_normal.rvs(mean=[0., 0.], cov=np.eye(2), size=10_000)\n",
    "\n",
    "DDPG_mcmc_2D_cov_total = np.loadtxt('results/DDPG_mcmc_2D_cov.csv', delimiter=',')\n",
    "DDPG_mcmc_2D_cov_burnin = DDPG_mcmc_2D_cov_total[DDPG_mcmc_2D_cov_total.shape[0] - 10_000:, :]\n",
    "\n",
    "gs_gpu = torch.from_numpy(gs).to('cuda').half()\n",
    "DDPG_mcmc_2D_cov_burnin_gpu = torch.from_numpy(DDPG_mcmc_2D_cov_burnin).to('cuda').half()\n",
    "\n",
    "scale = median_scale(DDPG_mcmc_2D_cov_burnin_gpu)\n",
    "\n",
    "DDPG_mcmc_MMD = []"
   ]
  },
  {
   "cell_type": "code",
   "execution_count": 4,
   "metadata": {},
   "outputs": [],
   "source": [
    "for i in [1, 10, 20, 50, 100, 200, 500, 1000, 2000, 5000, 10_000]:\n",
    "    DDPG_mmd_value = compute_mmd(gs_gpu[0:i], DDPG_mcmc_2D_cov_burnin_gpu[0:i], kernel='rbf', bandwidth=scale)\n",
    "    DDPG_mcmc_MMD.append(DDPG_mmd_value)\n",
    "    del DDPG_mmd_value\n",
    "\n"
   ]
  },
  {
   "cell_type": "code",
   "execution_count": 5,
   "metadata": {},
   "outputs": [
    {
     "data": {
      "text/plain": [
       "[<matplotlib.lines.Line2D at 0x7f1df1339e70>]"
      ]
     },
     "execution_count": 5,
     "metadata": {},
     "output_type": "execute_result"
    },
    {
     "data": {
      "image/png": "[encoded data removed]",
      "text/plain": [
       "<Figure size 640x480 with 1 Axes>"
      ]
     },
     "metadata": {},
     "output_type": "display_data"
    }
   ],
   "source": [
    "plt.loglog([i.to('cpu').numpy() for i in MMD_res])"
   ]
  },
  {
   "cell_type": "code",
   "execution_count": null,
   "metadata": {},
   "outputs": [],
   "source": []
  }
 ],
 "metadata": {
  "kernelspec": {
   "display_name": "rl",
   "language": "python",
   "name": "python3"
  },
  "language_info": {
   "codemirror_mode": {
    "name": "ipython",
    "version": 3
   },
   "file_extension": ".py",
   "mimetype": "text/x-python",
   "name": "python",
   "nbconvert_exporter": "python",
   "pygments_lexer": "ipython3",
   "version": "3.10.11"
  }
 },
 "nbformat": 4,
 "nbformat_minor": 2
}
