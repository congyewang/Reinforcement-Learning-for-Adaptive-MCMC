{
 "cells": [
  {
   "cell_type": "code",
   "execution_count": 1,
   "metadata": {},
   "outputs": [],
   "source": [
    "import numpy as np\n",
    "import matplotlib.pyplot as plt"
   ]
  },
  {
   "cell_type": "code",
   "execution_count": 2,
   "metadata": {},
   "outputs": [],
   "source": [
    "SimpleEggBox_DDPG_small = np.loadtxt('Data/SimpleEggBox_DDPG_small.csv', delimiter=',')\n",
    "SimpleEggBox_DDPG_small_plus = np.loadtxt('Data/SimpleEggBox_DDPG_small_plus.csv', delimiter=',')\n",
    "SimpleEggBox_DDPG_small_ultra = np.loadtxt('Data/SimpleEggBox_DDPG_small_ultra.csv', delimiter=',')\n",
    "\n",
    "SimpleEggBox_DDPG_medium = np.loadtxt('Data/SimpleEggBox_DDPG_medium.csv', delimiter=',')\n",
    "SimpleEggBox_DDPG_medium_plus = np.loadtxt('Data/SimpleEggBox_DDPG_medium_plus.csv', delimiter=',')\n",
    "SimpleEggBox_DDPG_medium_ultra = np.loadtxt('Data/SimpleEggBox_DDPG_medium_ultra.csv', delimiter=',')\n",
    "\n",
    "SimpleEggBox_DDPG_large = np.loadtxt('Data/SimpleEggBox_DDPG_large.csv', delimiter=',')\n",
    "SimpleEggBox_DDPG_large_plus = np.loadtxt('Data/SimpleEggBox_DDPG_large_plus.csv', delimiter=',')\n",
    "SimpleEggBox_DDPG_large_ultra = np.loadtxt('Data/SimpleEggBox_DDPG_large_ultra.csv', delimiter=',')"
   ]
  },
  {
   "cell_type": "code",
   "execution_count": 3,
   "metadata": {},
   "outputs": [
    {
     "data": {
      "text/plain": [
       "<Figure size 640x480 with 0 Axes>"
      ]
     },
     "metadata": {},
     "output_type": "display_data"
    }
   ],
   "source": [
    "plt.plot(SimpleEggBox_DDPG_small[:,0], SimpleEggBox_DDPG_small[:,1], 'o', alpha=0.1)\n",
    "plt.savefig('Pic/SimpleEggBox_DDPG_small.png', dpi=300)\n",
    "plt.clf()\n",
    "\n",
    "plt.plot(SimpleEggBox_DDPG_small_plus[:,0], SimpleEggBox_DDPG_small_plus[:,1], 'o', alpha=0.1)\n",
    "plt.savefig('Pic/SimpleEggBox_DDPG_small_plus.png', dpi=300)\n",
    "plt.clf()\n",
    "\n",
    "plt.plot(SimpleEggBox_DDPG_small_ultra[:,0], SimpleEggBox_DDPG_small_ultra[:,1], 'o', alpha=0.1)\n",
    "plt.savefig('Pic/SimpleEggBox_DDPG_small_ultra.png', dpi=300)\n",
    "plt.clf()"
   ]
  },
  {
   "cell_type": "code",
   "execution_count": 4,
   "metadata": {},
   "outputs": [
    {
     "data": {
      "text/plain": [
       "<Figure size 640x480 with 0 Axes>"
      ]
     },
     "metadata": {},
     "output_type": "display_data"
    }
   ],
   "source": [
    "plt.plot(SimpleEggBox_DDPG_medium[:,0], SimpleEggBox_DDPG_medium[:,1], 'o', alpha=0.1)\n",
    "plt.savefig('Pic/SimpleEggBox_DDPG_medium.png', dpi=300)\n",
    "plt.clf()\n",
    "\n",
    "plt.plot(SimpleEggBox_DDPG_medium_plus[:,0], SimpleEggBox_DDPG_medium_plus[:,1], 'o', alpha=0.1)\n",
    "plt.savefig('Pic/SimpleEggBox_DDPG_medium_plus.png', dpi=300)\n",
    "plt.clf()\n",
    "\n",
    "plt.plot(SimpleEggBox_DDPG_medium_ultra[:,0], SimpleEggBox_DDPG_medium_ultra[:,1], 'o', alpha=0.1)\n",
    "plt.savefig('Pic/SimpleEggBox_DDPG_medium_ultra.png', dpi=300)\n",
    "plt.clf()"
   ]
  },
  {
   "cell_type": "code",
   "execution_count": 5,
   "metadata": {},
   "outputs": [
    {
     "data": {
      "text/plain": [
       "<Figure size 640x480 with 0 Axes>"
      ]
     },
     "metadata": {},
     "output_type": "display_data"
    }
   ],
   "source": [
    "plt.plot(SimpleEggBox_DDPG_large[:,0], SimpleEggBox_DDPG_large[:,1], 'o', alpha=0.1)\n",
    "plt.savefig('Pic/SimpleEggBox_DDPG_large.png', dpi=300)\n",
    "plt.clf()\n",
    "\n",
    "plt.plot(SimpleEggBox_DDPG_large_plus[:,0], SimpleEggBox_DDPG_large_plus[:,1], 'o', alpha=0.1)\n",
    "plt.savefig('Pic/SimpleEggBox_DDPG_large_plus.png', dpi=300)\n",
    "plt.clf()\n",
    "\n",
    "plt.plot(SimpleEggBox_DDPG_large_ultra[:,0], SimpleEggBox_DDPG_large_ultra[:,1], 'o', alpha=0.1)\n",
    "plt.savefig('Pic/SimpleEggBox_DDPG_large_ultra.png', dpi=300)\n",
    "plt.clf()"
   ]
  }
 ],
 "metadata": {
  "kernelspec": {
   "display_name": "rl",
   "language": "python",
   "name": "python3"
  },
  "language_info": {
   "codemirror_mode": {
    "name": "ipython",
    "version": 3
   },
   "file_extension": ".py",
   "mimetype": "text/x-python",
   "name": "python",
   "nbconvert_exporter": "python",
   "pygments_lexer": "ipython3",
   "version": "3.10.13"
  }
 },
 "nbformat": 4,
 "nbformat_minor": 2
}
