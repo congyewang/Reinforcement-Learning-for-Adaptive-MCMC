{
 "cells": [
  {
   "cell_type": "code",
   "execution_count": 1,
   "metadata": {},
   "outputs": [],
   "source": [
    "import numpy as np\n",
    "from scipy.stats import multivariate_normal"
   ]
  },
  {
   "cell_type": "code",
   "execution_count": 2,
   "metadata": {},
   "outputs": [],
   "source": [
    "gs1 = multivariate_normal.rvs(mean=[8,8], cov=[[2,0],[0,2]], size=2_500)\n",
    "gs2 = multivariate_normal.rvs(mean=[-8,8], cov=[[2,0],[0,2]], size=2_500)\n",
    "gs3 = multivariate_normal.rvs(mean=[8,-8], cov=[[2,0],[0,2]], size=2_500)\n",
    "gs4 = multivariate_normal.rvs(mean=[-8,-8], cov=[[2,0],[0,2]], size=2_500)\n",
    "\n",
    "gs = np.concatenate([gs1, gs2, gs3, gs4])"
   ]
  },
  {
   "cell_type": "code",
   "execution_count": 3,
   "metadata": {},
   "outputs": [],
   "source": [
    "np.savetxt('SimpleEggBox.csv', gs, delimiter=',')"
   ]
  }
 ],
 "metadata": {
  "kernelspec": {
   "display_name": "rl",
   "language": "python",
   "name": "python3"
  },
  "language_info": {
   "codemirror_mode": {
    "name": "ipython",
    "version": 3
   },
   "file_extension": ".py",
   "mimetype": "text/x-python",
   "name": "python",
   "nbconvert_exporter": "python",
   "pygments_lexer": "ipython3",
   "version": "3.10.13"
  }
 },
 "nbformat": 4,
 "nbformat_minor": 2
}
