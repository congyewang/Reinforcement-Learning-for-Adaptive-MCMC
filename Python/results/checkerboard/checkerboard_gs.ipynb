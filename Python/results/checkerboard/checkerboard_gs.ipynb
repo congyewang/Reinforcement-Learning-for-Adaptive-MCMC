{
 "cells": [
  {
   "cell_type": "code",
   "execution_count": 1,
   "metadata": {},
   "outputs": [],
   "source": [
    "import numpy as np\n",
    "import matplotlib.pyplot as plt\n",
    "from scipy.stats import multivariate_normal\n",
    "\n",
    "from mcmctoolbox.functoolbox import flat\n",
    "\n",
    "import os\n",
    "import json\n",
    "import pandas as pd\n",
    "import bridgestan as bs\n",
    "from posteriordb import PosteriorDatabase\n",
    "\n",
    "np.random.seed(1234)"
   ]
  },
  {
   "cell_type": "code",
   "execution_count": 2,
   "metadata": {},
   "outputs": [],
   "source": [
    "# Load DataBase Locally\n",
    "pdb_path = \"../../posteriordb/posterior_database\"\n",
    "my_pdb = PosteriorDatabase(pdb_path)\n",
    "\n",
    "# Load Dataset\n",
    "posterior = my_pdb.posterior(\"test-checkerboard-test-checkerboard\")\n",
    "stan = posterior.model.stan_code_file_path()\n",
    "data = json.dumps(posterior.data.values())\n",
    "model = bs.StanModel.from_stan_file(stan, data)\n",
    "\n",
    "# Gold Standard\n",
    "gs = posterior.reference_draws()\n",
    "df = pd.DataFrame(gs)\n",
    "gs_chains = np.zeros((sum(flat(posterior.information['dimensions'].values())),\\\n",
    "                       posterior.reference_draws_info()['diagnostics']['ndraws']))\n",
    "for i in range(len(df.keys())):\n",
    "    s = []\n",
    "    for j in range(len(df[df.keys()[i]])):\n",
    "        s += df[df.keys()[i]][j]\n",
    "    gs_chains[i, :] = s\n",
    "linv = np.linalg.inv(np.cov(gs_chains))\n",
    "\n",
    "# Extract log-P-pdf and its gradient\n",
    "log_p = model.log_density\n",
    "grad_log_p = lambda x: model.log_density_gradient(x)[1]\n",
    "hess_log_p = lambda x: model.log_density_hessian(x)[2]"
   ]
  },
  {
   "cell_type": "code",
   "execution_count": 3,
   "metadata": {},
   "outputs": [
    {
     "data": {
      "image/png": "[encoded data removed]",
      "text/plain": [
       "<Figure size 640x480 with 1 Axes>"
      ]
     },
     "metadata": {},
     "output_type": "display_data"
    }
   ],
   "source": [
    "num = 1000\n",
    "x = np.linspace(-4, 4, num)\n",
    "y = np.linspace(-4, 4, num)\n",
    "X, Y = np.meshgrid(x, y)\n",
    "\n",
    "Z = np.zeros((num, num))\n",
    "\n",
    "for i in range(len(x)):\n",
    "    for j in range(len(y)):\n",
    "        Z[i, j] = np.exp(log_p(np.array([x[i], y[j]])))\n",
    "\n",
    "plt.contourf(X, Y, Z.T, 50, cmap='viridis')\n",
    "plt.savefig('Pic/checkerboard_true.png', dpi=300)"
   ]
  },
  {
   "cell_type": "code",
   "execution_count": 4,
   "metadata": {},
   "outputs": [],
   "source": [
    "x1 = np.random.rand(10_000) * 4 - 2\n",
    "x2_ = np.random.rand(10_000) - np.random.randint(0, 2, 10_000) * 2\n",
    "x2 = x2_ + (np.floor(x1) % 2)\n",
    "gs = np.concatenate([x1[:, None], x2[:, None]], 1) * 2"
   ]
  },
  {
   "cell_type": "code",
   "execution_count": 5,
   "metadata": {},
   "outputs": [],
   "source": [
    "np.savetxt('Data/checkerboard.csv', gs, delimiter=',')"
   ]
  }
 ],
 "metadata": {
  "kernelspec": {
   "display_name": "rl",
   "language": "python",
   "name": "python3"
  },
  "language_info": {
   "codemirror_mode": {
    "name": "ipython",
    "version": 3
   },
   "file_extension": ".py",
   "mimetype": "text/x-python",
   "name": "python",
   "nbconvert_exporter": "python",
   "pygments_lexer": "ipython3",
   "version": "3.10.13"
  }
 },
 "nbformat": 4,
 "nbformat_minor": 2
}
