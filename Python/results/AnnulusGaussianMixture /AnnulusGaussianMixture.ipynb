{
 "cells": [
  {
   "cell_type": "code",
   "execution_count": 1,
   "metadata": {},
   "outputs": [],
   "source": [
    "import numpy as np\n",
    "from scipy.stats import multivariate_normal"
   ]
  },
  {
   "cell_type": "code",
   "execution_count": 2,
   "metadata": {},
   "outputs": [],
   "source": [
    "def annulus_sample(n_samples, r0=20, sigma=1):\n",
    "\n",
    "    def reject_sample(n_samples):\n",
    "        \"\"\"\n",
    "        Generates non-negative independent samples.\n",
    "        \"\"\"\n",
    "        r = np.ones(n_samples) * -1\n",
    "        f = r < 0\n",
    "        while np.any(f):\n",
    "            r = np.random.normal(r0, sigma, size=np.sum(f))\n",
    "            f = r < 0\n",
    "        return r\n",
    "\n",
    "    n_samples = int(n_samples)\n",
    "\n",
    "    # First sample values of r\n",
    "    r = reject_sample(n_samples)\n",
    "\n",
    "    # uniformly sample X s.t. their normed distance is r0\n",
    "    X_norm = np.random.normal(size=(n_samples, 2))\n",
    "    lambda_x = np.sqrt(np.sum(X_norm**2, axis=1))\n",
    "    x_unit = [r[i] * X_norm[i] / y for i, y in enumerate(lambda_x)]\n",
    "\n",
    "    return np.array(x_unit)"
   ]
  },
  {
   "cell_type": "code",
   "execution_count": 3,
   "metadata": {},
   "outputs": [],
   "source": [
    "gs = np.zeros((10_000, 2))\n",
    "\n",
    "for i in range(10_000):\n",
    "    if np.random.binomial(1, 0.3, size=1):\n",
    "        gs[i, :] = multivariate_normal.rvs(mean=[0, 0], cov=[[1, 0], [0, 1]], size=1)\n",
    "    else:\n",
    "        gs[i, :] = annulus_sample(n_samples=1, r0=10, sigma=1)"
   ]
  },
  {
   "cell_type": "code",
   "execution_count": 4,
   "metadata": {},
   "outputs": [],
   "source": [
    "np.savetxt(\"AnnulusGaussianMixture.csv\", gs, delimiter=\",\")"
   ]
  },
  {
   "cell_type": "code",
   "execution_count": null,
   "metadata": {},
   "outputs": [],
   "source": []
  }
 ],
 "metadata": {
  "kernelspec": {
   "display_name": "rl",
   "language": "python",
   "name": "python3"
  },
  "language_info": {
   "codemirror_mode": {
    "name": "ipython",
    "version": 3
   },
   "file_extension": ".py",
   "mimetype": "text/x-python",
   "name": "python",
   "nbconvert_exporter": "python",
   "pygments_lexer": "ipython3",
   "version": "3.10.13"
  }
 },
 "nbformat": 4,
 "nbformat_minor": 2
}
