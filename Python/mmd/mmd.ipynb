{
 "cells": [
  {
   "cell_type": "code",
   "execution_count": 1,
   "metadata": {},
   "outputs": [],
   "source": [
    "import torch\n",
    "from sklearn.metrics.pairwise import pairwise_kernels, rbf_kernel\n",
    "\n",
    "from tqdm.auto import trange"
   ]
  },
  {
   "cell_type": "code",
   "execution_count": 2,
   "metadata": {},
   "outputs": [],
   "source": [
    "def compute_mmd(x, y, kernel='rbf'):\n",
    "    \"\"\"\n",
    "    Compute the Maximum Mean Discrepancy (MMD) between two sets of samples, x and y.\n",
    "    \n",
    "    Parameters:\n",
    "        - x: First set of samples. Shape: (n, d)\n",
    "        - y: Second set of samples. Shape: (m, d)\n",
    "        - kernel: Type of kernel to be used. Currently supports 'rbf'.\n",
    "        - bandwidth: Bandwidth for the RBF kernel.\n",
    "        \n",
    "    Returns:\n",
    "        - mmd: The MMD value between x and y.\n",
    "    \"\"\"\n",
    "\n",
    "    def rbf_kernel(x, y, bandwidth=1.0):\n",
    "        x = x.unsqueeze(1)  # Shape: (n, 1, d)\n",
    "        y = y.unsqueeze(0)  # Shape: (1, m, d)\n",
    "        \n",
    "        # Compute pairwise distances\n",
    "        distances = (x - y).pow(2).sum(-1)\n",
    "\n",
    "        return torch.exp(-distances / (2 * bandwidth * bandwidth))\n",
    "\n",
    "    def imq_kernel(x, y, c=1.0):\n",
    "        x = x.unsqueeze(1)  # Shape: (n, 1, d)\n",
    "        y = y.unsqueeze(0)  # Shape: (1, m, d)\n",
    "\n",
    "        # Compute pairwise distances\n",
    "        distances = (x - y).pow(2).sum(-1)\n",
    "\n",
    "        return c * c / (c * c + distances)\n",
    "\n",
    "    def linear_kernel(x, y):\n",
    "        return torch.mm(x, y.t())\n",
    "\n",
    "    def cosine_similarity_kernel(x, y):\n",
    "        x_norm = x / (x.norm(p=2, dim=1, keepdim=True) + 1e-8)\n",
    "        y_norm = y / (y.norm(p=2, dim=1, keepdim=True) + 1e-8)\n",
    "        return torch.mm(x_norm, y_norm.t())\n",
    "\n",
    "    if kernel == 'rbf':\n",
    "        kernel_func = rbf_kernel\n",
    "    elif kernel == 'imq':\n",
    "        kernel_func = imq_kernel\n",
    "    elif kernel == 'linear':\n",
    "        kernel_func = linear_kernel\n",
    "    elif kernel == 'cosine':\n",
    "        kernel_func = cosine_similarity_kernel\n",
    "    else:\n",
    "        raise ValueError(\"Unsupported kernel type.\")\n",
    "\n",
    "    with torch.no_grad():\n",
    "        # Compute individual kernel matrices\n",
    "        xx_kernel = kernel_func(x, x).mean()\n",
    "        yy_kernel = kernel_func(y, y).mean()\n",
    "        xy_kernel = kernel_func(x, y).mean()\n",
    "\n",
    "    # Compute MMD\n",
    "    mmd = xx_kernel + yy_kernel - 2 * xy_kernel\n",
    "    return mmd\n"
   ]
  },
  {
   "cell_type": "code",
   "execution_count": 3,
   "metadata": {},
   "outputs": [],
   "source": [
    "def compute_mmd_final_efficient(x, y, kernel='rbf', batch_size=500):\n",
    "    \"\"\"\n",
    "    Final memory-efficient computation of MMD.\n",
    "    \n",
    "    Parameters:\n",
    "        - x: First set of samples. Shape: (n, d)\n",
    "        - y: Second set of samples. Shape: (m, d)\n",
    "        - kernel: Type of kernel to be used. Currently supports 'rbf'.\n",
    "        - batch_size: Size of batch to compute kernel values.\n",
    "        \n",
    "    Returns:\n",
    "        - mmd: The MMD value between x and y.\n",
    "    \"\"\"\n",
    "    n, _ = x.shape\n",
    "    m = y.shape[0]\n",
    "\n",
    "    def rbf_kernel(x, y, bandwidth=1.0):\n",
    "        # Compute pairwise distances\n",
    "        distances = (x.unsqueeze(1) - y.unsqueeze(0)).pow(2).sum(-1)\n",
    "        return torch.exp(-distances / (2 * bandwidth * bandwidth))\n",
    "\n",
    "    if kernel == 'rbf':\n",
    "        kernel_func = rbf_kernel\n",
    "    else:\n",
    "        raise ValueError(\"Unsupported kernel type.\")\n",
    "\n",
    "    xx_sum, yy_sum, xy_sum = 0.0, 0.0, 0.0\n",
    "    count_xx, count_yy, count_xy = 0, 0, 0\n",
    "\n",
    "    with torch.no_grad():  # Ensure that no gradients are computed\n",
    "        for i in trange(0, n, batch_size):\n",
    "            x_batch = x[i:min(i+batch_size, n)]\n",
    "            \n",
    "            xx_kernel_batch = kernel_func(x_batch, x_batch)\n",
    "            xx_sum += xx_kernel_batch.sum().item()\n",
    "            count_xx += x_batch.shape[0] * x_batch.shape[0]\n",
    "            \n",
    "            for j in range(0, m, batch_size):\n",
    "                y_batch = y[j:min(j+batch_size, m)]\n",
    "                \n",
    "                xy_kernel_batch = kernel_func(x_batch, y_batch)\n",
    "                xy_sum += xy_kernel_batch.sum().item()\n",
    "                count_xy += x_batch.shape[0] * y_batch.shape[0]\n",
    "                \n",
    "                if i == j:\n",
    "                    yy_kernel_batch = kernel_func(y_batch, y_batch)\n",
    "                    yy_sum += yy_kernel_batch.sum().item()\n",
    "                    count_yy += y_batch.shape[0] * y_batch.shape[0]\n",
    "                \n",
    "                del y_batch, xy_kernel_batch\n",
    "                if torch.cuda.is_available():\n",
    "                    torch.cuda.empty_cache()\n",
    "            \n",
    "            del x_batch, xx_kernel_batch\n",
    "            if torch.cuda.is_available():\n",
    "                torch.cuda.empty_cache()\n",
    "\n",
    "    xx_kernel = xx_sum / count_xx\n",
    "    yy_kernel = yy_sum / count_yy\n",
    "    xy_kernel = xy_sum / count_xy\n",
    "\n",
    "    # Compute MMD\n",
    "    mmd = xx_kernel + yy_kernel - 2 * xy_kernel\n",
    "\n",
    "    return mmd"
   ]
  },
  {
   "cell_type": "code",
   "execution_count": 4,
   "metadata": {},
   "outputs": [],
   "source": [
    "def compute_mmd_sklearn(x, y, kernel='rbf'):\n",
    "    \"\"\"\n",
    "    Compute the Maximum Mean Discrepancy (MMD) between two sets of samples, x and y using sklearn.\n",
    "\n",
    "    Parameters:\n",
    "        - x: First set of samples. Shape: (n, d)\n",
    "        - y: Second set of samples. Shape: (m, d)\n",
    "        - gamma: Parameter for the RBF kernel in sklearn.\n",
    "        \n",
    "    Returns:\n",
    "        - mmd: The MMD value between x and y.\n",
    "    \"\"\"\n",
    "    # Convert PyTorch tensors to numpy arrays\n",
    "    x = x.numpy()\n",
    "    y = y.numpy()\n",
    "\n",
    "    # Compute individual kernel matrices\n",
    "    xx_kernel = pairwise_kernels(x, x, metric=kernel).mean()\n",
    "    yy_kernel = pairwise_kernels(y, y, metric=kernel).mean()\n",
    "    xy_kernel = pairwise_kernels(x, y, metric=kernel).mean()\n",
    "\n",
    "    # Compute MMD\n",
    "    mmd = xx_kernel + yy_kernel - 2 * xy_kernel\n",
    "    return mmd"
   ]
  },
  {
   "cell_type": "code",
   "execution_count": 5,
   "metadata": {},
   "outputs": [],
   "source": [
    "def mmd_rbf(X, Y, gamma=1.0):\n",
    "    \"\"\"MMD using rbf (gaussian) kernel (i.e., k(x,y) = exp(-gamma * ||x-y||^2 / 2))\n",
    "\n",
    "    Arguments:\n",
    "        X {[n_sample1, dim]} -- [X matrix]\n",
    "        Y {[n_sample2, dim]} -- [Y matrix]\n",
    "\n",
    "    Keyword Arguments:\n",
    "        gamma {float} -- [kernel parameter] (default: {1.0})\n",
    "\n",
    "    Returns:\n",
    "        [scalar] -- [MMD value]\n",
    "    \"\"\"\n",
    "    XX = rbf_kernel(X, X, gamma).mean()\n",
    "    YY = rbf_kernel(Y, Y, gamma).mean()\n",
    "    XY = rbf_kernel(X, Y, gamma).mean()\n",
    "    return XX + YY - 2 * XY"
   ]
  },
  {
   "cell_type": "code",
   "execution_count": 6,
   "metadata": {},
   "outputs": [],
   "source": [
    "def compute_mmd_batched(x, y, kernel='rbf', batch_size=100):\n",
    "    \"\"\"\n",
    "    Compute the Maximum Mean Discrepancy (MMD) between two sets of samples, x and y, using batched computation.\n",
    "    \n",
    "    Parameters:\n",
    "        - x: First set of samples. Shape: (n, d)\n",
    "        - y: Second set of samples. Shape: (m, d)\n",
    "        - kernel: Type of kernel to be used. Currently supports 'rbf'.\n",
    "        - batch_size: The size of batches for computing the kernel matrices.\n",
    "        \n",
    "    Returns:\n",
    "        - mmd: The MMD value between x and y.\n",
    "    \"\"\"\n",
    "    \n",
    "    def rbf_kernel(x, y, bandwidth=1.0):\n",
    "        x = x.unsqueeze(1)  # Shape: (n, 1, d)\n",
    "        y = y.unsqueeze(0)  # Shape: (1, m, d)\n",
    "        \n",
    "        # Compute pairwise distances\n",
    "        distances = (x - y).pow(2).sum(-1)\n",
    "\n",
    "        return torch.exp(-distances / (2 * bandwidth * bandwidth))\n",
    "\n",
    "    def imq_kernel(x, y, c=1.0):\n",
    "        x = x.unsqueeze(1)  # Shape: (n, 1, d)\n",
    "        y = y.unsqueeze(0)  # Shape: (1, m, d)\n",
    "\n",
    "        # Compute pairwise distances\n",
    "        distances = (x - y).pow(2).sum(-1)\n",
    "        \n",
    "        return c * c / (c * c + distances)\n",
    "\n",
    "    def linear_kernel(x, y):\n",
    "        return torch.mm(x, y.t())\n",
    "\n",
    "    def cosine_similarity_kernel(x, y):\n",
    "        x_norm = x / (x.norm(p=2, dim=1, keepdim=True) + 1e-8)\n",
    "        y_norm = y / (y.norm(p=2, dim=1, keepdim=True) + 1e-8)\n",
    "        return torch.mm(x_norm, y_norm.t())\n",
    "\n",
    "    if kernel == 'rbf':\n",
    "        kernel_func = rbf_kernel\n",
    "    elif kernel == 'imq':\n",
    "        kernel_func = imq_kernel\n",
    "    elif kernel == 'linear':\n",
    "        kernel_func = linear_kernel\n",
    "    elif kernel == 'cosine':\n",
    "        kernel_func = cosine_similarity_kernel\n",
    "    else:\n",
    "        raise ValueError(\"Unsupported kernel type.\")\n",
    "\n",
    "    with torch.no_grad():\n",
    "        # Initialize accumulators for kernel values\n",
    "        xx_sum, yy_sum, xy_sum, count = 0.0, 0.0, 0.0, 0\n",
    "\n",
    "        # Compute kernel matrices in batches\n",
    "        for i in trange(0, len(x), batch_size):\n",
    "            x_batch = x[i:i + batch_size]\n",
    "            for j in range(0, len(y), batch_size):\n",
    "                y_batch = y[j:j + batch_size]\n",
    "\n",
    "                xx_sum += kernel_func(x_batch, x_batch).sum().item()\n",
    "                yy_sum += kernel_func(y_batch, y_batch).sum().item()\n",
    "                xy_sum += kernel_func(x_batch, y_batch).sum().item()\n",
    "                \n",
    "                count += x_batch.shape[0] * y_batch.shape[0]\n",
    "\n",
    "        # Compute mean kernel values\n",
    "        xx_kernel = xx_sum / count\n",
    "        yy_kernel = yy_sum / count\n",
    "        xy_kernel = xy_sum / count\n",
    "\n",
    "    # Compute MMD\n",
    "    mmd = xx_kernel + yy_kernel - 2 * xy_kernel\n",
    "    return mmd"
   ]
  },
  {
   "cell_type": "code",
   "execution_count": 19,
   "metadata": {},
   "outputs": [],
   "source": [
    "x_torch = torch.randn(20_000, 2)\n",
    "y_torch = torch.randn(20_000, 2) + 2.0\n",
    "# x_torch = torch.arange(1, 10).reshape(3, 3)\n",
    "# y = [[7, 6, 5], [4, 3, 2], [1, 1, 8], [0, 2, 5]]\n",
    "# y_torch = torch.Tensor(y)"
   ]
  },
  {
   "cell_type": "code",
   "execution_count": 20,
   "metadata": {},
   "outputs": [
    {
     "data": {
      "text/plain": [
       "tensor(0.4907, device='cuda:0', dtype=torch.float16)"
      ]
     },
     "execution_count": 20,
     "metadata": {},
     "output_type": "execute_result"
    }
   ],
   "source": [
    "x_gpu = x_torch.to('cuda').half()\n",
    "y_gpu = y_torch.to('cuda').half()\n",
    "\n",
    "del x_torch\n",
    "del y_torch\n",
    "\n",
    "mmd_value = compute_mmd(x_gpu, y_gpu, kernel='rbf')\n",
    "mmd_value"
   ]
  },
  {
   "cell_type": "code",
   "execution_count": 15,
   "metadata": {},
   "outputs": [
    {
     "data": {
      "application/vnd.jupyter.widget-view+json": {
       "model_id": "19094630a1e14372840c2f167540a0ea",
       "version_major": 2,
       "version_minor": 0
      },
      "text/plain": [
       "  0%|          | 0/1000 [00:00<?, ?it/s]"
      ]
     },
     "metadata": {},
     "output_type": "display_data"
    },
    {
     "data": {
      "text/plain": [
       "0.5000581416000001"
      ]
     },
     "execution_count": 15,
     "metadata": {},
     "output_type": "execute_result"
    }
   ],
   "source": [
    "mmd_value_batched = compute_mmd_batched(x_gpu, y_gpu, kernel='rbf', batch_size=100)\n",
    "mmd_value_batched"
   ]
  },
  {
   "cell_type": "code",
   "execution_count": null,
   "metadata": {},
   "outputs": [],
   "source": [
    "x_np = x_torch.numpy()\n",
    "y_np = y_torch.numpy()\n",
    "\n",
    "mmd_rbf(x_np, y_np, gamma=0.5)"
   ]
  },
  {
   "cell_type": "code",
   "execution_count": 16,
   "metadata": {},
   "outputs": [
    {
     "data": {
      "application/vnd.jupyter.widget-view+json": {
       "model_id": "e4f670ecfaba44a38605fe632d773cf5",
       "version_major": 2,
       "version_minor": 0
      },
      "text/plain": [
       "  0%|          | 0/1000 [00:00<?, ?it/s]"
      ]
     },
     "metadata": {},
     "output_type": "display_data"
    },
    {
     "data": {
      "text/plain": [
       "0.5000581416000001"
      ]
     },
     "execution_count": 16,
     "metadata": {},
     "output_type": "execute_result"
    }
   ],
   "source": [
    "compute_mmd_final_efficient(x_gpu, y_gpu, kernel='rbf', batch_size=100)"
   ]
  },
  {
   "cell_type": "code",
   "execution_count": null,
   "metadata": {},
   "outputs": [],
   "source": [
    "compute_mmd_sklearn(x_torch, y_torch, kernel=\"rbf\")"
   ]
  },
  {
   "cell_type": "code",
   "execution_count": null,
   "metadata": {},
   "outputs": [],
   "source": [
    "for i in ['linear', 'rbf', 'cosine']:\n",
    "    print(f\"{i}\\n{compute_mmd(x_torch, y_torch, kernel=i)}\\t{compute_mmd_sklearn(x_torch, y_torch, kernel=i)}\\n\")"
   ]
  },
  {
   "cell_type": "code",
   "execution_count": null,
   "metadata": {},
   "outputs": [],
   "source": [
    "import jax.numpy as jnp\n",
    "from jax import jit\n",
    "\n",
    "@jit\n",
    "def rbf_kernel(x, y, bandwidth=1.0):\n",
    "    # Compute pairwise distances\n",
    "    distances = jnp.sum((x[:, None, :] - y[None, :, :]) ** 2, axis=-1)\n",
    "    return jnp.exp(-distances / (2 * bandwidth * bandwidth))\n",
    "\n",
    "def compute_mmd_final_efficient_jax(x, y, kernel='rbf', batch_size=10_000):\n",
    "    \"\"\"\n",
    "    Final memory-efficient computation of MMD using JAX.\n",
    "    \n",
    "    Parameters:\n",
    "        - x: First set of samples. Shape: (n, d)\n",
    "        - y: Second set of samples. Shape: (m, d)\n",
    "        - kernel: Type of kernel to be used. Currently supports 'rbf'.\n",
    "        - batch_size: Size of batch to compute kernel values.\n",
    "        \n",
    "    Returns:\n",
    "        - mmd: The MMD value between x and y.\n",
    "    \"\"\"\n",
    "    n, _ = x.shape\n",
    "    m = y.shape[0]\n",
    "\n",
    "    def rbf_kernel(x, y, bandwidth=1.0):\n",
    "        # Compute pairwise distances\n",
    "        distances = jnp.sum((x[:, None, :] - y[None, :, :]) ** 2, axis=-1)\n",
    "        return jnp.exp(-distances / (2 * bandwidth * bandwidth))\n",
    "\n",
    "    if kernel == 'rbf':\n",
    "        kernel_func = rbf_kernel\n",
    "    else:\n",
    "        raise ValueError(\"Unsupported kernel type.\")\n",
    "\n",
    "    xx_sum, yy_sum, xy_sum = 0.0, 0.0, 0.0\n",
    "    count_xx, count_yy, count_xy = 0.0, 0.0, 0.0  # Convert to float\n",
    "\n",
    "    for i in trange(0, n, batch_size):\n",
    "        x_batch = x[i:min(i+batch_size, n)]\n",
    "        \n",
    "        xx_kernel_batch = kernel_func(x_batch, x_batch)\n",
    "        xx_sum += jnp.sum(xx_kernel_batch)\n",
    "        count_xx += float(x_batch.shape[0] * x_batch.shape[0])\n",
    "        \n",
    "        for j in range(0, m, batch_size):\n",
    "            y_batch = y[j:min(j+batch_size, m)]\n",
    "            \n",
    "            xy_kernel_batch = kernel_func(x_batch, y_batch)\n",
    "            xy_sum += jnp.sum(xy_kernel_batch)\n",
    "            count_xy += float(x_batch.shape[0] * y_batch.shape[0])\n",
    "            \n",
    "            if i == j:\n",
    "                yy_kernel_batch = kernel_func(y_batch, y_batch)\n",
    "                yy_sum += jnp.sum(yy_kernel_batch)\n",
    "                count_yy += float(y_batch.shape[0] * y_batch.shape[0])\n",
    "\n",
    "    xx_kernel = xx_sum / count_xx\n",
    "    yy_kernel = yy_sum / count_yy\n",
    "    xy_kernel = xy_sum / count_xy\n",
    "\n",
    "    # Compute MMD\n",
    "    mmd = xx_kernel + yy_kernel - 2 * xy_kernel\n",
    "\n",
    "    return mmd\n"
   ]
  },
  {
   "cell_type": "code",
   "execution_count": null,
   "metadata": {},
   "outputs": [],
   "source": [
    "x_np = x_torch.numpy()\n",
    "y_np = y_torch.numpy()\n",
    "\n",
    "x_jax = jnp.array(x_np)\n",
    "y_jax = jnp.array(y_np)"
   ]
  },
  {
   "cell_type": "code",
   "execution_count": null,
   "metadata": {},
   "outputs": [],
   "source": [
    "compute_mmd_final_efficient_jax(x_jax, y_jax, kernel='rbf', batch_size=100)"
   ]
  },
  {
   "cell_type": "code",
   "execution_count": null,
   "metadata": {},
   "outputs": [],
   "source": [
    "x_np"
   ]
  },
  {
   "cell_type": "code",
   "execution_count": null,
   "metadata": {},
   "outputs": [],
   "source": []
  }
 ],
 "metadata": {
  "kernelspec": {
   "display_name": "rl",
   "language": "python",
   "name": "python3"
  },
  "language_info": {
   "codemirror_mode": {
    "name": "ipython",
    "version": 3
   },
   "file_extension": ".py",
   "mimetype": "text/x-python",
   "name": "python",
   "nbconvert_exporter": "python",
   "pygments_lexer": "ipython3",
   "version": "3.10.13"
  }
 },
 "nbformat": 4,
 "nbformat_minor": 2
}
