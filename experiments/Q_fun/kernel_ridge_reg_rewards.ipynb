{
 "cells": [
  {
   "cell_type": "code",
   "execution_count": 1,
   "metadata": {},
   "outputs": [],
   "source": [
    "import random\n",
    "\n",
    "import gymnasium as gym\n",
    "import torch\n",
    "from torcheval.metrics.functional import mean_squared_error\n",
    "\n",
    "import numpy as np\n",
    "from scipy.stats import wishart\n",
    "import matplotlib.pyplot as plt\n",
    "\n",
    "import sys\n",
    "sys.path.append('../..')\n",
    "\n",
    "from tqdm.auto import trange\n",
    "\n",
    "from src.rlmcmc.utils import Args, KernelRidgeRegression, Toolbox\n",
    "from src.rlmcmc.env import RLMHEnvV31"
   ]
  },
  {
   "cell_type": "code",
   "execution_count": 2,
   "metadata": {},
   "outputs": [],
   "source": [
    "log_p = Toolbox.make_log_target_pdf(\n",
    "    \"test-multivariant_normal-test-multivariant_normal\",\n",
    "    \"./posteriordb/posterior_database\"\n",
    ")"
   ]
  },
  {
   "cell_type": "code",
   "execution_count": 3,
   "metadata": {},
   "outputs": [],
   "source": [
    "# env setup\n",
    "args = Args()\n",
    "args.env_id = 'RLMHEnv-v3.1'\n",
    "args.seed = 1234\n",
    "args.total_timesteps = 500_000\n",
    "\n",
    "random.seed(args.seed)\n",
    "np.random.seed(args.seed)\n",
    "torch.manual_seed(args.seed)\n",
    "torch.backends.cudnn.deterministic = args.torch_deterministic\n",
    "\n",
    "envs = gym.vector.SyncVectorEnv(\n",
    "    [\n",
    "        Toolbox.make_env(\n",
    "\n",
    "            env_id=args.env_id,\n",
    "            seed=args.seed,\n",
    "            log_target_pdf=log_p,\n",
    "            sample_dim=args.sample_dim,\n",
    "            total_timesteps=args.total_timesteps\n",
    "        )\n",
    "    ]\n",
    ")\n",
    "\n",
    "_ = envs.reset()"
   ]
  },
  {
   "cell_type": "code",
   "execution_count": 4,
   "metadata": {},
   "outputs": [],
   "source": [
    "num = int(10_000 / 3)\n",
    "obs_list_random = np.hstack(\n",
    "    (\n",
    "        np.random.uniform(-10.0, 10.0, (num, args.sample_dim)),\n",
    "        np.random.normal(0, 1, (num, args.sample_dim))\n",
    "    )\n",
    ")\n",
    "\n",
    "\n",
    "action_list_random = wishart.rvs(args.sample_dim, np.eye(args.sample_dim), num << 1).reshape(num, -1)"
   ]
  },
  {
   "cell_type": "code",
   "execution_count": 5,
   "metadata": {},
   "outputs": [],
   "source": [
    "obs_list_eye = np.hstack(\n",
    "    (\n",
    "        np.random.uniform(-10.0, 10.0, (num, args.sample_dim)),\n",
    "        np.random.normal(0, 1, (num, args.sample_dim))\n",
    "    )\n",
    ")\n",
    "\n",
    "action_list_eye = np.tile(np.eye(2).flatten(), (num, 2))"
   ]
  },
  {
   "cell_type": "code",
   "execution_count": 6,
   "metadata": {},
   "outputs": [],
   "source": [
    "obs_list_random_eye = np.hstack(\n",
    "    (\n",
    "        np.random.uniform(-10.0, 10.0, (num, args.sample_dim)),\n",
    "        np.random.normal(0, 1, (num, args.sample_dim))\n",
    "    )\n",
    ")\n",
    "\n",
    "action_list_random_eye = (10.0 * np.random.rand(num)).reshape(-1, 1) * np.tile(np.eye(2).flatten(), (num, 2))"
   ]
  },
  {
   "cell_type": "code",
   "execution_count": 7,
   "metadata": {},
   "outputs": [],
   "source": [
    "obs_list = np.vstack((obs_list_random, obs_list_eye, obs_list_random_eye))\n",
    "action_list = np.vstack((action_list_random, action_list_eye, action_list_random_eye))\n",
    "\n",
    "next_obs_list = np.zeros((obs_list.shape[0], args.sample_dim << 1))\n",
    "rewards_list = np.zeros(obs_list.shape[0])"
   ]
  },
  {
   "cell_type": "code",
   "execution_count": 8,
   "metadata": {},
   "outputs": [
    {
     "data": {
      "application/vnd.jupyter.widget-view+json": {
       "model_id": "2cd1ab26a5ed4d5da83e3fb4e645b3e5",
       "version_major": 2,
       "version_minor": 0
      },
      "text/plain": [
       "  0%|          | 0/3333 [00:00<?, ?it/s]"
      ]
     },
     "metadata": {},
     "output_type": "display_data"
    }
   ],
   "source": [
    "for i in trange(num):\n",
    "    envs.set_attr(\"observation\", obs_list[i])\n",
    "    next_obs, rewards, _, _, _ = envs.step(\n",
    "                action_list[i:i+1]\n",
    "            )\n",
    "    next_obs_list[i:i+1] = next_obs\n",
    "    rewards_list[i] = rewards.item()"
   ]
  },
  {
   "cell_type": "code",
   "execution_count": 9,
   "metadata": {},
   "outputs": [],
   "source": [
    "design_matrix = np.hstack((obs_list, action_list))"
   ]
  },
  {
   "cell_type": "markdown",
   "metadata": {},
   "source": [
    "# Kernel Ridge Regression"
   ]
  },
  {
   "cell_type": "code",
   "execution_count": 10,
   "metadata": {},
   "outputs": [
    {
     "name": "stdout",
     "output_type": "stream",
     "text": [
      "tensor(0.0516, dtype=torch.float64)\n"
     ]
    }
   ],
   "source": [
    "krr = KernelRidgeRegression(kernel=\"rbf\", lambda_param=0.1, gamma=1.0)\n",
    "X = torch.from_numpy(design_matrix)\n",
    "Y = torch.from_numpy(rewards_list)\n",
    "krr.fit(X, Y)\n",
    "\n",
    "Y_test = krr.predict(X)\n",
    "\n",
    "print(mean_squared_error(Y, Y_test))"
   ]
  },
  {
   "cell_type": "code",
   "execution_count": 11,
   "metadata": {},
   "outputs": [
    {
     "data": {
      "text/plain": [
       "tensor([-4.1569e-07,  1.9320e-06,  2.4580e-05,  1.3554e-06,  6.8000e-06,\n",
       "        -8.5732e-06, -8.5732e-06, -2.0284e-05,  9.3109e-06, -1.0557e-05,\n",
       "        -1.0557e-05, -1.0676e-05], dtype=torch.float64)"
      ]
     },
     "execution_count": 11,
     "metadata": {},
     "output_type": "execute_result"
    }
   ],
   "source": [
    "X.requires_grad_(True)\n",
    "\n",
    "predictions = krr.predict(X)\n",
    "predictions[0].backward()\n",
    "\n",
    "gradients = X.grad[0]\n",
    "gradients"
   ]
  },
  {
   "cell_type": "code",
   "execution_count": 12,
   "metadata": {},
   "outputs": [],
   "source": [
    "cov_num = 1000\n",
    "cov_11 = torch.linspace(0.0, 10.0, cov_num).unsqueeze(1)\n",
    "design_matrix_cov_11 = torch.hstack(\n",
    "    (\n",
    "        torch.zeros(cov_num, 4),\n",
    "        cov_11,\n",
    "        torch.zeros(cov_num, 2),\n",
    "        torch.ones(cov_num, 1),\n",
    "        cov_11,\n",
    "        torch.zeros(cov_num, 2),\n",
    "        torch.ones(cov_num, 1),\n",
    "    )\n",
    ").double()\n",
    "\n",
    "cov_22 = torch.linspace(0.0, 10.0, cov_num).unsqueeze(1)\n",
    "design_matrix_cov_22 = torch.hstack(\n",
    "    (\n",
    "        torch.zeros(cov_num, 4),\n",
    "        torch.ones(cov_num, 1),\n",
    "        torch.zeros(cov_num, 2),\n",
    "        cov_22,\n",
    "        torch.ones(cov_num, 1),\n",
    "        torch.zeros(cov_num, 2),\n",
    "        cov_22,\n",
    "    )\n",
    ").double()"
   ]
  },
  {
   "cell_type": "code",
   "execution_count": 13,
   "metadata": {},
   "outputs": [],
   "source": [
    "cov_12 = torch.linspace(-2.0, 2.0, cov_num).unsqueeze(1)\n",
    "design_matrix_cov_12 = torch.hstack(\n",
    "    (\n",
    "        torch.zeros(cov_num, 4),\n",
    "        2.0 * torch.ones(cov_num, 1),\n",
    "        cov_12,\n",
    "        cov_12,\n",
    "        2.0 * torch.ones(cov_num, 1),\n",
    "        2.0 * torch.ones(cov_num, 1),\n",
    "        cov_12,\n",
    "        cov_12,\n",
    "        2.0 * torch.ones(cov_num, 1),\n",
    "    )\n",
    ").double()"
   ]
  },
  {
   "cell_type": "code",
   "execution_count": 14,
   "metadata": {},
   "outputs": [
    {
     "data": {
      "text/plain": [
       "[<matplotlib.lines.Line2D at 0x7fb59c7a0b50>]"
      ]
     },
     "execution_count": 14,
     "metadata": {},
     "output_type": "execute_result"
    },
    {
     "data": {
      "image/png": "[encoded data removed]",
      "text/plain": [
       "<Figure size 640x480 with 1 Axes>"
      ]
     },
     "metadata": {},
     "output_type": "display_data"
    }
   ],
   "source": [
    "rewards_cov_11 = krr.predict(design_matrix_cov_11).detach().numpy()\n",
    "plt.plot(cov_11, rewards_cov_11)"
   ]
  },
  {
   "cell_type": "code",
   "execution_count": 15,
   "metadata": {},
   "outputs": [
    {
     "data": {
      "text/plain": [
       "[<matplotlib.lines.Line2D at 0x7fb594166020>]"
      ]
     },
     "execution_count": 15,
     "metadata": {},
     "output_type": "execute_result"
    },
    {
     "data": {
      "image/png": "[encoded data removed]",
      "text/plain": [
       "<Figure size 640x480 with 1 Axes>"
      ]
     },
     "metadata": {},
     "output_type": "display_data"
    }
   ],
   "source": [
    "rewards_cov_22 = krr.predict(design_matrix_cov_22).detach().numpy()\n",
    "plt.plot(cov_22, rewards_cov_22)"
   ]
  },
  {
   "cell_type": "code",
   "execution_count": 16,
   "metadata": {},
   "outputs": [
    {
     "data": {
      "text/plain": [
       "[<matplotlib.lines.Line2D at 0x7fb5941da980>]"
      ]
     },
     "execution_count": 16,
     "metadata": {},
     "output_type": "execute_result"
    },
    {
     "data": {
      "image/png": "[encoded data removed]",
      "text/plain": [
       "<Figure size 640x480 with 1 Axes>"
      ]
     },
     "metadata": {},
     "output_type": "display_data"
    }
   ],
   "source": [
    "rewards_cov_12 = krr.predict(design_matrix_cov_12).detach().numpy()\n",
    "plt.plot(cov_12, rewards_cov_12)"
   ]
  },
  {
   "cell_type": "code",
   "execution_count": null,
   "metadata": {},
   "outputs": [],
   "source": []
  }
 ],
 "metadata": {
  "kernelspec": {
   "display_name": "rl",
   "language": "python",
   "name": "python3"
  },
  "language_info": {
   "codemirror_mode": {
    "name": "ipython",
    "version": 3
   },
   "file_extension": ".py",
   "mimetype": "text/x-python",
   "name": "python",
   "nbconvert_exporter": "python",
   "pygments_lexer": "ipython3",
   "version": "3.10.13"
  }
 },
 "nbformat": 4,
 "nbformat_minor": 2
}
