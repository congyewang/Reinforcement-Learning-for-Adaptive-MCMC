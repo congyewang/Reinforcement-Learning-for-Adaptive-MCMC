{
 "cells": [
  {
   "cell_type": "code",
   "execution_count": null,
   "metadata": {},
   "outputs": [],
   "source": [
    "import random\n",
    "\n",
    "import gymnasium as gym\n",
    "import numpy as np\n",
    "import torch\n",
    "import torch.optim as optim\n",
    "\n",
    "from stable_baselines3.common.buffers import ReplayBuffer\n",
    "\n",
    "import sys\n",
    "sys.path.append('../..')\n",
    "\n",
    "from src.rlmcmc.agent import Actor, QNetwork\n",
    "from src.rlmcmc.env import RLMHEnvV31\n",
    "from src.rlmcmc.utils import Args, MCMCAnimation, Toolbox\n",
    "from src.rlmcmc.learning import LearningDDPG"
   ]
  },
  {
   "cell_type": "code",
   "execution_count": null,
   "metadata": {},
   "outputs": [],
   "source": [
    "log_p = Toolbox.make_log_target_pdf(\n",
    "    \"test-banana-test-banana\",\n",
    "    \"../../posteriordb/posterior_database\"\n",
    ")"
   ]
  },
  {
   "cell_type": "code",
   "execution_count": null,
   "metadata": {},
   "outputs": [],
   "source": [
    "# env setup\n",
    "args = Args()\n",
    "args.seed = 1234\n",
    "args.log_target_pdf = log_p\n",
    "args.total_timesteps = 10_000\n",
    "args.batch_size = 32\n",
    "args.learning_starts = args.batch_size\n",
    "# args.learning_starts = 5_000\n",
    "args.gamma = 0.5\n",
    "# args.buffer_size = args.total_timesteps\n",
    "args.learning_rate = 1e-5\n",
    "args.policy_frequency = 2\n",
    "\n",
    "random.seed(args.seed)\n",
    "np.random.seed(args.seed)\n",
    "torch.manual_seed(args.seed)\n",
    "torch.backends.cudnn.deterministic = args.torch_deterministic\n",
    "\n",
    "device = torch.device(\"cuda\" if torch.cuda.is_available() and args.cuda else \"cpu\")\n",
    "\n",
    "envs = gym.vector.SyncVectorEnv(\n",
    "    [\n",
    "        Toolbox.make_env(\n",
    "\n",
    "            env_id=args.env_id,\n",
    "            seed=args.seed,\n",
    "            log_target_pdf=args.log_target_pdf,\n",
    "            sample_dim=args.sample_dim,\n",
    "            total_timesteps=args.total_timesteps\n",
    "        )\n",
    "    ]\n",
    ")\n",
    "predicted_envs = gym.vector.SyncVectorEnv(\n",
    "    [\n",
    "        Toolbox.make_env(\n",
    "\n",
    "            env_id=args.env_id,\n",
    "            seed=args.seed,\n",
    "            log_target_pdf=args.log_target_pdf,\n",
    "            sample_dim=args.sample_dim,\n",
    "            total_timesteps=args.total_timesteps\n",
    "        )\n",
    "    ]\n",
    ")\n",
    "assert isinstance(envs.single_action_space, gym.spaces.Box), \"only continuous action space is supported\"\n",
    "\n",
    "actor = Actor(envs).to(device)\n",
    "actor = actor.double()\n",
    "actor = torch.compile(actor)\n",
    "qf1 = QNetwork(envs).to(device)\n",
    "qf1 = qf1.double()\n",
    "qf1 = torch.compile(qf1)\n",
    "qf1_target = QNetwork(envs).to(device)\n",
    "qf1_target = qf1_target.double()\n",
    "qf1_target = torch.compile(qf1_target)\n",
    "target_actor = Actor(envs).to(device)\n",
    "target_actor = target_actor.double()\n",
    "target_actor = torch.compile(target_actor)\n",
    "target_actor.load_state_dict(actor.state_dict())\n",
    "qf1_target.load_state_dict(qf1.state_dict())\n",
    "q_optimizer = optim.Adam(list(qf1.parameters()), lr=args.learning_rate)\n",
    "actor_optimizer = optim.Adam(list(actor.parameters()), lr=args.learning_rate)\n",
    "\n",
    "envs.single_observation_space.dtype = np.float64\n",
    "rb = ReplayBuffer(\n",
    "    args.buffer_size,\n",
    "    envs.single_observation_space,\n",
    "    envs.single_action_space,\n",
    "    device,\n",
    "    handle_timeout_termination=False\n",
    ")"
   ]
  },
  {
   "cell_type": "code",
   "execution_count": null,
   "metadata": {},
   "outputs": [],
   "source": [
    "learning = LearningDDPG(\n",
    "    env=envs,\n",
    "    actor=actor,\n",
    "    target_actor=target_actor,\n",
    "    critic=qf1,\n",
    "    target_critic=qf1_target,\n",
    "    actor_optimizer=actor_optimizer,\n",
    "    critic_optimizer=q_optimizer,\n",
    "    replay_buffer=rb,\n",
    "    total_timesteps=args.total_timesteps,\n",
    "    learning_starts=args.learning_starts,\n",
    "    batch_size=args.batch_size,\n",
    "    gamma=args.gamma,\n",
    "    policy_frequency=args.policy_frequency,\n",
    "    tau=args.tau,\n",
    "    seed=args.seed,\n",
    "    device=device\n",
    ")"
   ]
  },
  {
   "cell_type": "code",
   "execution_count": null,
   "metadata": {},
   "outputs": [],
   "source": [
    "learning.train()"
   ]
  },
  {
   "cell_type": "code",
   "execution_count": null,
   "metadata": {},
   "outputs": [],
   "source": [
    "predict_func = learning.predict(predicted_envs, 5_000)\n",
    "predict_func.plot()"
   ]
  },
  {
   "cell_type": "code",
   "execution_count": null,
   "metadata": {},
   "outputs": [],
   "source": [
    "predict_func.dataframe().to_csv(\"save/data/predict.csv\", index=False)"
   ]
  },
  {
   "cell_type": "code",
   "execution_count": null,
   "metadata": {},
   "outputs": [],
   "source": [
    "mcmc_animation = MCMCAnimation(\n",
    "    log_target_pdf=log_p,\n",
    "    dataframe=predict_func.dataframe(),\n",
    "    xlim=(-5, 5),\n",
    "    ylim=(-1, 20)\n",
    "    )"
   ]
  },
  {
   "cell_type": "code",
   "execution_count": null,
   "metadata": {},
   "outputs": [],
   "source": [
    "anim_file_path = \"./save/data/banana.mp4\"\n",
    "mcmc_animation.make().save(anim_file_path, writer='ffmpeg')"
   ]
  },
  {
   "cell_type": "code",
   "execution_count": null,
   "metadata": {},
   "outputs": [],
   "source": [
    "learning.save(\"save/model\")"
   ]
  },
  {
   "cell_type": "code",
   "execution_count": null,
   "metadata": {},
   "outputs": [],
   "source": [
    "predict_func.dataframe().head()"
   ]
  },
  {
   "cell_type": "code",
   "execution_count": null,
   "metadata": {},
   "outputs": [],
   "source": []
  }
 ],
 "metadata": {
  "kernelspec": {
   "display_name": "rl",
   "language": "python",
   "name": "python3"
  },
  "language_info": {
   "codemirror_mode": {
    "name": "ipython",
    "version": 3
   },
   "file_extension": ".py",
   "mimetype": "text/x-python",
   "name": "python",
   "nbconvert_exporter": "python",
   "pygments_lexer": "ipython3",
   "version": "3.10.13"
  }
 },
 "nbformat": 4,
 "nbformat_minor": 2
}
