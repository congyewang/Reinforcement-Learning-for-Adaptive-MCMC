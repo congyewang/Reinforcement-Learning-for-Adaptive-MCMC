{
 "cells": [
  {
   "cell_type": "code",
   "execution_count": null,
   "metadata": {},
   "outputs": [],
   "source": [
    "import sys\n",
    "sys.path.append('../..')\n",
    "\n",
    "from src.rlmcmc.learning import RunningFactory"
   ]
  },
  {
   "cell_type": "code",
   "execution_count": null,
   "metadata": {},
   "outputs": [],
   "source": [
    "running = RunningFactory(\n",
    "    project_name=\"my-awesome-project\",\n",
    "    posterior_name=\"test-multivariant_normal-test-multivariant_normal\",\n",
    "    posteriordb_path=\"../../posteriordb/posterior_database\",\n",
    "    mode='ddpg_random',\n",
    "    seed=1234,\n",
    "    total_timesteps=1_000,\n",
    "    batch_size=32,\n",
    "    learning_starts=5_00,\n",
    "    gamma=0.01,\n",
    "    learning_rate=1e-5\n",
    ")"
   ]
  },
  {
   "cell_type": "code",
   "execution_count": null,
   "metadata": {},
   "outputs": [],
   "source": [
    "running.run()"
   ]
  },
  {
   "cell_type": "code",
   "execution_count": null,
   "metadata": {},
   "outputs": [],
   "source": []
  }
 ],
 "metadata": {
  "kernelspec": {
   "display_name": "rl",
   "language": "python",
   "name": "python3"
  },
  "language_info": {
   "codemirror_mode": {
    "name": "ipython",
    "version": 3
   },
   "file_extension": ".py",
   "mimetype": "text/x-python",
   "name": "python",
   "nbconvert_exporter": "python",
   "pygments_lexer": "ipython3",
   "version": "3.10.13"
  }
 },
 "nbformat": 4,
 "nbformat_minor": 2
}
