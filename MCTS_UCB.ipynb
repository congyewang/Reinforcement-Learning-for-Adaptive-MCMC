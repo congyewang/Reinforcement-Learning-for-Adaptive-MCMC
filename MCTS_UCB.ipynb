{
 "cells": [
  {
   "cell_type": "code",
   "execution_count": 1,
   "metadata": {},
   "outputs": [],
   "source": [
    "import numpy as np"
   ]
  },
  {
   "cell_type": "code",
   "execution_count": 2,
   "metadata": {},
   "outputs": [],
   "source": [
    "class Node:\n",
    "    def __init__(self, sigma, parent=None):\n",
    "        self.sigma = sigma\n",
    "        self.parent = parent\n",
    "        self.children = []\n",
    "        self.visits = 0\n",
    "        self.value = 0\n",
    "    \n",
    "    def add_child(self, child):\n",
    "        self.children.append(child)\n",
    "\n",
    "    def update(self, reward):\n",
    "        self.value += reward\n",
    "        self.visits += 1\n",
    "\n",
    "    def ucb1(self, total_visits, C=1.41):\n",
    "        if self.visits == 0:\n",
    "            return float('inf')  # Prioritize unvisited nodes\n",
    "        return self.value / self.visits + C * np.sqrt(2 * np.log(total_visits) / self.visits)"
   ]
  },
  {
   "cell_type": "code",
   "execution_count": 3,
   "metadata": {},
   "outputs": [],
   "source": [
    "def target_pdf(x):\n",
    "    return np.exp(-x**2 / 2) / np.sqrt(2 * np.pi)\n",
    "\n",
    "def mcmc_step(x_current, sigma):\n",
    "    x_proposal = np.random.normal(x_current, sigma)\n",
    "    accept_ratio = target_pdf(x_proposal) / target_pdf(x_current)\n",
    "    if np.random.rand() < accept_ratio:\n",
    "        return x_proposal, True\n",
    "    return x_current, False\n",
    "\n",
    "def best_child(node, C=1.41):\n",
    "    choices_weights = [child.ucb1(node.visits, C) for child in node.children]\n",
    "    return node.children[np.argmax(choices_weights)]\n"
   ]
  },
  {
   "cell_type": "code",
   "execution_count": 4,
   "metadata": {},
   "outputs": [
    {
     "data": {
      "text/plain": [
       "(2.703903903903904, 0.8215258210849341, 0.416, 1.8698680366540021)"
      ]
     },
     "execution_count": 4,
     "metadata": {},
     "output_type": "execute_result"
    }
   ],
   "source": [
    "def mcts_simulation_sjd_with_chain(node, x_init=0, simulations=5_000):\n",
    "    x_current = x_init # Initialize the current state\n",
    "    sjd_total = 0  # Sum of squared jump distances\n",
    "    mcmc_chain = [x_current]  # Store the MCMC chain\n",
    "    nacc = 0\n",
    "\n",
    "    for _ in range(simulations):\n",
    "        x_new, is_accepted = mcmc_step(x_current, node.sigma)\n",
    "        if is_accepted:\n",
    "            sjd = (x_new - x_current) ** 2  # Calculate the squared jump distance\n",
    "            sjd_total += sjd\n",
    "            x_current = x_new  # Update the current state\n",
    "            nacc += 1\n",
    "        mcmc_chain.append(x_current)  # Store the current state in the MCMC chain\n",
    "    sjd_average = sjd_total / simulations  # Calculate the average squared jump distance\n",
    "    acc = nacc / simulations\n",
    "    return sjd_average, mcmc_chain, acc\n",
    "\n",
    "def mcts_sjd_with_chain(root, iterations=50, C=1.41, sigma_range=np.linspace(0.1, 30, 1000)):\n",
    "    best_chain = []\n",
    "    best_sjd = 0\n",
    "    best_sigma = 0\n",
    "\n",
    "    for _ in range(iterations):\n",
    "        node = root\n",
    "        # Choose\n",
    "        while node.children:\n",
    "            node = best_child(node, C)\n",
    "\n",
    "        # Expand\n",
    "        new_sigma = np.random.choice(sigma_range)\n",
    "        new_node = Node(new_sigma, parent=node)\n",
    "        node.add_child(new_node)\n",
    "\n",
    "        # Simulate\n",
    "        reward, chain, acc = mcts_simulation_sjd_with_chain(new_node)\n",
    "\n",
    "        # Update the best chain\n",
    "        if reward > best_sjd:\n",
    "            best_sjd = reward\n",
    "            best_chain = chain\n",
    "            best_sigma = new_sigma\n",
    "            best_acc = acc\n",
    "\n",
    "        # Backpropagate\n",
    "        while new_node:\n",
    "            new_node.update(reward)\n",
    "            new_node = new_node.parent\n",
    "\n",
    "    return best_sigma, best_sjd, best_chain, best_acc\n",
    "\n",
    "# Initialize the root node\n",
    "root_chain = Node(1.0) # The initial sigma value is 1.0\n",
    "best_sigma_chain, best_sjd_chain, best_chain, best_acc = mcts_sjd_with_chain(root_chain)\n",
    "\n",
    "best_sigma_chain, best_sjd_chain, best_acc, best_chain[-1]\n"
   ]
  },
  {
   "cell_type": "code",
   "execution_count": null,
   "metadata": {},
   "outputs": [],
   "source": []
  }
 ],
 "metadata": {
  "kernelspec": {
   "display_name": "rl",
   "language": "python",
   "name": "python3"
  },
  "language_info": {
   "codemirror_mode": {
    "name": "ipython",
    "version": 3
   },
   "file_extension": ".py",
   "mimetype": "text/x-python",
   "name": "python",
   "nbconvert_exporter": "python",
   "pygments_lexer": "ipython3",
   "version": "3.1.0"
  }
 },
 "nbformat": 4,
 "nbformat_minor": 2
}
